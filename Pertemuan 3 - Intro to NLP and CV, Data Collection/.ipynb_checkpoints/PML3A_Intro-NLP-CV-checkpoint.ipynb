{
 "cells": [
  {
   "cell_type": "markdown",
   "id": "d3e92492",
   "metadata": {},
   "source": [
    "<b>Pertemuan 3A Lab PML</b> <br>\n",
    "&#169; Gary Alvaro"
   ]
  },
  {
   "cell_type": "markdown",
   "id": "8225c8af",
   "metadata": {},
   "source": [
    "# Computer Vision (CV)"
   ]
  },
  {
   "cell_type": "markdown",
   "id": "c94312ad",
   "metadata": {},
   "source": [
    "Computer Vision adalah <b>sebuah teknik mengekstrak informasi secara otomatis dari gambar digital.</b>\n",
    "\n",
    "Computer Vision dapat digunakan untuk mengidentifikasi manusia, tempat, dan objek yang terdapat di dalam sebuah foto dengan akurasi di atas tingkat manusia dengan efisien dan kecepatan yang lebih tinggi.\n",
    "\n",
    "Umumnya dibangun dengan algoritma <b>Deep Learning</b> untuk menghasilkan model yang dapat melakukan proses ekstraksi, analisis, klasifikasi, dan mengerti informasi yang terdapat pada sebuah gambar atau sederetan gambar.\n",
    "\n",
    "Data yang digunakan bisa berbentuk gambar, video, gabungan gambar dari beberapa kamera, dan gambar tiga dimensi."
   ]
  },
  {
   "cell_type": "markdown",
   "id": "01ef743a",
   "metadata": {},
   "source": [
    "<img src=\"https://mobidev.biz/wp-content/uploads/2020/03/concept-ai-based-computer-vision.png\" align=\"left\" width=\"750px\">"
   ]
  },
  {
   "cell_type": "markdown",
   "id": "a2b738b3",
   "metadata": {},
   "source": [
    "### Contoh Implementasi Computer Vision:\n",
    "<ul>\n",
    "    <li>Keamanan, mis: sistem pengenalan wajah, penggunaan masker, dll.</li>\n",
    "    <li>Analisis dan Manajemen Konten, digunakan untuk mengklasifikasikan gambar dan memetakan keuntungan.</li>\n",
    "    <li>Pengenalan citra medis, dapat meningkatkan akurasi dan kecepatan diagnosa melalui gambar agar pasien dapat diberikan penanganan yang cepat dan sesuai. </li>\n",
    "    <li>Kendaraan otonom</li>\n",
    "    <li>Quality Control</li>\n",
    "    <li>Klasifikasi Gambar</li>\n",
    "    <li>Deteksi Objek (Object Detection)</li>\n",
    "    <li>Segmentasi Objek</li>\n",
    "</ul>\n",
    "\n",
    "<img src=\"https://miro.medium.com/max/1200/1*Hz6t-tokG1niaUfmcysusw.jpeg\" align=\"left\" width=\"700px\">\n"
   ]
  },
  {
   "cell_type": "markdown",
   "id": "36f78618",
   "metadata": {},
   "source": [
    "### "
   ]
  },
  {
   "cell_type": "markdown",
   "id": "247466ab",
   "metadata": {},
   "source": [
    "### Prosedur Membangun Model Computer Vision"
   ]
  },
  {
   "cell_type": "markdown",
   "id": "757ec1c2",
   "metadata": {},
   "source": [
    "<img src=\"https://i.ibb.co/jyg4f13/image.png\" align=\"left\" width=\"750px\">"
   ]
  },
  {
   "cell_type": "markdown",
   "id": "de2346fc",
   "metadata": {},
   "source": [
    "#### 1. Pengumpulan Data Gambar\n",
    "\n",
    "Gambar bisa dikumpulkan dari sumber terbuka/tertutup.\n",
    "\n",
    "Gambar yang dikumpulkan pastikan sudah dikelompokkan dalam folder sesuai labelnya.\n",
    "\n",
    "Contoh:<br>\n",
    "Gambar Kucing dalam satu folder yang diberi nama \"kucing\" <br>\n",
    "Gambar Anjing dalam satu folder yang diberi nama \"anjing\" <br>\n",
    "dst."
   ]
  },
  {
   "cell_type": "markdown",
   "id": "8a1aa657",
   "metadata": {},
   "source": [
    "#### 2. Pelabelan Data Gambar\n",
    "\n",
    "Dilakukan dengan mengubah gambar ke format matriks lalu ditambahkan (append) ke dalam list (list data gambar), sebagai X. <br>\n",
    "Label juga ditambahkan (append) ke dalam list (list label), sebagai Y.\n",
    "\n",
    "File gambar disimpan dalam matriks/array 3 dimensi.\n",
    "\n",
    "<img src=\"https://miro.medium.com/max/1200/1*sxnhgeSptW8Jfol8XUyP-Q.png\" align=\"left\" width=\"650px\">"
   ]
  },
  {
   "attachments": {},
   "cell_type": "markdown",
   "id": "4e299723",
   "metadata": {},
   "source": [
    "<br><br>\n",
    "Format matriks (numpy array) 3 dimensi pada data gambar: <br>\n",
    "y = baris (lebar pixel gambar) <br>\n",
    "x = kolom (panjang pixel gambar) <br>\n",
    "c = channel (warna RGB yang terkandung) <br>\n",
    "\n",
    "Umumnya <br>\n",
    "Channel ke-0 = RED <br>\n",
    "Channel ke-1 = GREEN <br>\n",
    "Channel ke-2 = BLUE <br>\n",
    "\n",
    "<img src=\"https://miro.medium.com/max/1400/1*vd3JXBI0O4occyYHV8FC_Q.png\" align=\"left\" width=\"700px\">"
   ]
  },
  {
   "cell_type": "markdown",
   "id": "5c86ccf7",
   "metadata": {},
   "source": [
    "#### 3. Pembagian Data\n",
    "\n",
    "Pembagian data menggunakan Train-Test-Split dengan perbandingan bebas, yang penting data training jauh lebih banyak (umumnya 80:20)"
   ]
  },
  {
   "cell_type": "markdown",
   "id": "bc865a50",
   "metadata": {},
   "source": [
    "#### 4. Training Model\n",
    "\n",
    "<ol>\n",
    "    <li>Mengimpor library yang diperlukan.</li>\n",
    "    <li>Membangun kerangka model.</li>\n",
    "    <li>Melakukan proses fitting terhadap data training.</li>\n",
    "    <li>Menampilkan grafik hasil training berupa akurasi dan loss.</li>\n",
    "</ol>"
   ]
  },
  {
   "cell_type": "markdown",
   "id": "f127851b",
   "metadata": {},
   "source": [
    "<img src=\"https://miro.medium.com/max/1400/1*3CIrmxmNJnzNg8J2KFL2AQ.gif\" align=\"left\" width=\"750px\">"
   ]
  },
  {
   "cell_type": "markdown",
   "id": "4448d725",
   "metadata": {},
   "source": [
    "#### 5. Testing dan Evaluasi\n",
    "\n",
    "<ol>\n",
    "    <li>Menggunakan learned model untuk memprediksi data testing.</li>\n",
    "    <li>Bandingkan hasil prediksi (Y_pred) dengan label sebenarnya (Y_test).</li>\n",
    "    <li>Lakukan evaluasi dengan membuat confusion matrix.</li>\n",
    "    <li>Menentukan metrik evaluasi yang diinginkan.</li>\n",
    "</ol>"
   ]
  },
  {
   "cell_type": "markdown",
   "id": "71c0f787",
   "metadata": {},
   "source": [
    "#### 6. Implementasi Model (Deployment)\n",
    "\n",
    "Melakukan deployment agar sistem Machine Learning dapat digunakan langsung oleh user dengan tetap menerapkan prinsip UX-friendly."
   ]
  },
  {
   "cell_type": "markdown",
   "id": "d997c598",
   "metadata": {},
   "source": [
    "# Natural Language Processing (NLP)"
   ]
  },
  {
   "cell_type": "markdown",
   "id": "d087249e",
   "metadata": {},
   "source": [
    "NLP adalah sebuah teknik dalam machine learning yang dapat <b>menganalisis dan merepresentasi bahasa manusia</b> dengan menggunakan algoritma tertentu."
   ]
  },
  {
   "cell_type": "markdown",
   "id": "a6d1afad",
   "metadata": {},
   "source": [
    "Dengan menentukan struktur dari suatu bahasa, 'mesin' dapat memproses kata, frase, dan kalimat. \n",
    "\n",
    "<img src=\"https://i.ibb.co/m4mpyHm/image.png\" align=\"left\" width=\"500px\">\n"
   ]
  },
  {
   "cell_type": "markdown",
   "id": "eeeacca4",
   "metadata": {},
   "source": [
    "### Masalah dalam NLP\n",
    "\n",
    "<ul>\n",
    "    <li><b>Ketepatan Makna</b><br> \n",
    "        Kata yang sama belum tentu memiliki makna yang sama, bisa dipengaruhi kata-kata di sekitarnya (mis: jawab VS tanggung jawab)\n",
    "    </li>\n",
    "    <li><b>Pelabelan Data</b><br> \n",
    "        Label yang diberikan harus bisa merepresentasi suatu kalimat/teks, dimana setiap bahasa memiliki struktur yang berbeda-beda. \n",
    "    </li>\n",
    "    <li><b>Konteks</b><br>  \n",
    "        Dikarenakan pengertian suatu kata harus didasari oleh konteksnya, sistem NLP harus bisa mengartikan konteksnya, namun mesin sangat kesulitan dalam mengerti konteks kalimat.<br>\n",
    "        Contoh: <i>Sudirman adalah pahlawan dari Indonesia.</i> VS <i>Nanti sore kita ke Sudirman.</i>\n",
    "    </li>\n",
    "    <li><b>Struktur Kalimat</b><br> \n",
    "        Penggunaan struktur kalimat yang sangat bervariasi dalam bahasa manusia akan menjadi tantangan yang sangat besar bagi mesin untuk mengertinya.\n",
    "    </li>\n",
    "</ul>"
   ]
  },
  {
   "cell_type": "markdown",
   "id": "6a421a38",
   "metadata": {},
   "source": [
    "### Contoh Implementasi NLP\n",
    "\n",
    "<ul>\n",
    "    <li>Aplikasi Mesin Pencari (Search Engine), mis: Google Search, Bing, dll.</li>\n",
    "    <li>Penerjemah (Translator)</li>\n",
    "    <li>Ekstraksi Informasi (Information Extraction), mis: penentuan kesimpulan paragraf, tema teks, pengecekan plagiarisme dll.</li>\n",
    "    <li>Analisis Sentimen</li>\n",
    "    <li>Klasifikasi Teks</li>\n",
    "    <li>Chatbot</li>\n",
    "    <li>Berkaitan dengan Audio: Speech Recognition, TTS (Text-to-Speech)</li>\n",
    "</ul>"
   ]
  },
  {
   "cell_type": "markdown",
   "id": "1abe6026",
   "metadata": {},
   "source": [
    "### Prosedur Membangun Model NLP"
   ]
  },
  {
   "cell_type": "markdown",
   "id": "2f04d446",
   "metadata": {},
   "source": [
    "<img src=\"https://i.ibb.co/gRfycQ5/image.png\" align=\"left\" width=\"750px\">"
   ]
  },
  {
   "cell_type": "markdown",
   "id": "3210b239",
   "metadata": {},
   "source": [
    "#### 1. Pengumpulan & Pelabelan Data Teks\n",
    "\n",
    "Data teks bisa dikumpulkan dari sumber terbuka/tertutup.<br>\n",
    "Pastikan data sudah berlabel. Jika belum, dapat dilakukan pelabelan data."
   ]
  },
  {
   "cell_type": "markdown",
   "id": "50db123a",
   "metadata": {},
   "source": [
    "#### 2. Preprocessing Data\n",
    "\n",
    "Beberapa teknik yang dapat dilakukan:\n",
    "<ul>\n",
    "    <li>Case Folding : mengecilkan seluruh huruf.</li>\n",
    "    <li>Punctual Removal : menghilangkan simbol, angka, dan tanda baca.</li>\n",
    "    <li>Stopword Removal : menghapus kata umum yang sering muncul namun tidak memiliki arti, mis: yang, dari, di, sebagai, adalah, dll. </li>\n",
    "    <li>Normalisasi/Standarisasi : mengubah kata-kata tidak normal (kata gaul, singkatan, typo) menjadi kata normal.</li>\n",
    "    <li>Stemming : menghapus imbuhan dari suatu kata berimbuhan (mis: writing &#8594; writ).</li>\n",
    "    <li>Lemmatization : mengambil kata dasar dari suatu kata berimbuhan (mis: writing &#8594; write).</li>\n",
    "    <li>Tokenisasi : memcah kalimat/frase menjadi kata atau kelompok kata.</li>\n",
    "</ul>"
   ]
  },
  {
   "attachments": {},
   "cell_type": "markdown",
   "id": "51c114ee",
   "metadata": {},
   "source": [
    "#### 3. Ekstraksi Fitur Kata (Vektorisasi)\n",
    "\n",
    "Manusia berkomunikasi dengan kalimat dan kata-kata, sedangkan Mesin/Komputer hanya mengerti angka-angka, sehingga diperlukan teknik untuk mengubah kata-kata menjadi angka-angka yang disebut <b><i>vektorisasi teks (text vectorization)</i></b>.\n",
    "\n",
    "Beberapa metode yang dapat dilakukan:\n",
    "<ul>\n",
    "    <li>One Hot Encoding <br>\n",
    "        <img src=\"https://i.ibb.co/NrfS6F0/image.png\" align=\"left\" width=\"300px\"> &nbsp; &nbsp; &nbsp; &nbsp;\n",
    "        <img src=\"https://i0.wp.com/structilmy.com/wp-content/uploads/2019/07/we_1.png\" width=\"300px\">\n",
    "    </li>\n",
    "</ul>"
   ]
  },
  {
   "attachments": {},
   "cell_type": "markdown",
   "id": "620ca2dc",
   "metadata": {},
   "source": [
    "<ul>\n",
    "    <li>Bag-of-Words (BoW) <br>\n",
    "        <img src=\"https://miro.medium.com/max/661/1*3K9GIOVLNu0cRvQap_KaRg.png\" align=\"left\" width=\"600px\"><br>\n",
    "    </li>\n",
    "</ul>"
   ]
  },
  {
   "cell_type": "markdown",
   "id": "b277da16",
   "metadata": {},
   "source": [
    "<ul>\n",
    "    <li>TF-IDF (Term Frequency - Inverse Document Frequency) <br>\n",
    "        <img src=\"https://i.ibb.co/YPCCHBK/image.png\" align=\"left\" width=\"600px\"><br>\n",
    "    </li>\n",
    "</ul>"
   ]
  },
  {
   "cell_type": "markdown",
   "id": "09121578",
   "metadata": {},
   "source": [
    "<ul>\n",
    "    <li>Word Embeddings<br> \n",
    "        - Non-Contextual Embeddings, misalnya: FastText, Word2Vec, Global Vectors (GloVe).<br> \n",
    "        - Contextual Word Representation, misalnya: Context2Vec, Contextualized word representations Vectors (CoVe), Embedding from language Models (ELMo), Universal Language Model Fine-Tuning (ULMFiT), Transformer, GPT (OpenAI Transformer), Bidirectional Encoder Representations from Transformers (BERT). <br> \n",
    "        <img src=\"https://i0.wp.com/structilmy.com/wp-content/uploads/2019/07/we_2.png?resize=300%2C184&ssl=1\" align=\"left\" width=\"320px\"><br>\n",
    "    </li>\n",
    "</ul>"
   ]
  },
  {
   "cell_type": "markdown",
   "id": "4396f9f6",
   "metadata": {},
   "source": []
  },
  {
   "cell_type": "markdown",
   "id": "aaee79ea",
   "metadata": {},
   "source": []
  },
  {
   "cell_type": "markdown",
   "id": "b06fe51f",
   "metadata": {},
   "source": []
  },
  {
   "cell_type": "markdown",
   "id": "187f691f",
   "metadata": {},
   "source": []
  },
  {
   "cell_type": "markdown",
   "id": "9d0a50df",
   "metadata": {},
   "source": []
  },
  {
   "cell_type": "markdown",
   "id": "edc2de24",
   "metadata": {},
   "source": []
  },
  {
   "cell_type": "markdown",
   "id": "ac365e9a",
   "metadata": {},
   "source": [
    "<ul>\n",
    "    <li></li>\n",
    "    <li></li>\n",
    "    <li></li>\n",
    "    <li></li>\n",
    "    <li></li>\n",
    "    <li></li>\n",
    "    <li></li>\n",
    "</ul>"
   ]
  }
 ],
 "metadata": {
  "kernelspec": {
   "display_name": "Python 3",
   "language": "python",
   "name": "python3"
  },
  "language_info": {
   "codemirror_mode": {
    "name": "ipython",
    "version": 3
   },
   "file_extension": ".py",
   "mimetype": "text/x-python",
   "name": "python",
   "nbconvert_exporter": "python",
   "pygments_lexer": "ipython3",
   "version": "3.9.2"
  }
 },
 "nbformat": 4,
 "nbformat_minor": 5
}
