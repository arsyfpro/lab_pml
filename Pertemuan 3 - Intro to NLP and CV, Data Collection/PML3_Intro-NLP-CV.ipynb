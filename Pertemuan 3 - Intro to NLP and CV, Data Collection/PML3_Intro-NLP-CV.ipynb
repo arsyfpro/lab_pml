{
 "cells": [
  {
   "cell_type": "markdown",
   "id": "d3e92492",
   "metadata": {},
   "source": [
    "<b>Pertemuan 3 Lab PML</b> <br>\n",
    "&#169; Gary Alvaro"
   ]
  },
  {
   "cell_type": "markdown",
   "id": "8225c8af",
   "metadata": {},
   "source": [
    "# Computer Vision (CV)"
   ]
  },
  {
   "cell_type": "markdown",
   "id": "c94312ad",
   "metadata": {},
   "source": [
    "Computer Vision adalah <b>sebuah teknik mengekstrak informasi secara otomatis dari gambar digital.</b>\n",
    "\n",
    "Computer Vision dapat digunakan untuk mengidentifikasi manusia, tempat, dan objek yang terdapat di dalam sebuah foto dengan akurasi di atas tingkat manusia dengan efisien dan kecepatan yang lebih tinggi.\n",
    "\n",
    "Umumnya dibangun dengan algoritma <b>Deep Learning</b> untuk menghasilkan model yang dapat melakukan proses ekstraksi, analisis, klasifikasi, dan mengerti informasi yang terdapat pada sebuah gambar atau sederetan gambar.\n",
    "\n",
    "Data yang digunakan bisa berbentuk gambar, video, gabungan gambar dari beberapa kamera, dan gambar tiga dimensi."
   ]
  },
  {
   "cell_type": "markdown",
   "id": "01ef743a",
   "metadata": {},
   "source": [
    "<img src=\"https://mobidev.biz/wp-content/uploads/2020/03/concept-ai-based-computer-vision.png\" align=\"left\" width=\"750px\">"
   ]
  },
  {
   "cell_type": "markdown",
   "id": "a2b738b3",
   "metadata": {},
   "source": [
    "### Contoh Implementasi Computer Vision:\n",
    "<ul>\n",
    "    <li>Keamanan, mis: sistem pengenalan wajah, penggunaan masker, dll.</li>\n",
    "    <li>Analisis dan Manajemen Konten, digunakan untuk mengklasifikasikan gambar dan memetakan keuntungan.</li>\n",
    "    <li>Pengenalan citra medis, dapat meningkatkan akurasi dan kecepatan diagnosa melalui gambar agar pasien dapat diberikan penanganan yang cepat dan sesuai. </li>\n",
    "    <li>Kendaraan otonom</li>\n",
    "    <li>Quality Control</li>\n",
    "    <li>Klasifikasi Gambar</li>\n",
    "    <li>Deteksi Objek (Object Detection)</li>\n",
    "    <li>Segmentasi Objek</li>\n",
    "</ul>\n",
    "\n",
    "<img src=\"https://miro.medium.com/max/1200/1*Hz6t-tokG1niaUfmcysusw.jpeg\" align=\"left\" width=\"700px\">\n"
   ]
  },
  {
   "cell_type": "markdown",
   "id": "36f78618",
   "metadata": {},
   "source": [
    "### "
   ]
  },
  {
   "cell_type": "markdown",
   "id": "247466ab",
   "metadata": {},
   "source": [
    "### Prosedur Membangun Model Computer Vision"
   ]
  },
  {
   "cell_type": "markdown",
   "id": "757ec1c2",
   "metadata": {},
   "source": [
    "<img src=\"https://i.ibb.co/jyg4f13/image.png\" align=\"left\" width=\"750px\">"
   ]
  },
  {
   "cell_type": "markdown",
   "id": "de2346fc",
   "metadata": {},
   "source": [
    "#### 1. Pengumpulan Data Gambar\n",
    "\n",
    "Gambar bisa dikumpulkan dari sumber terbuka/tertutup.\n",
    "\n",
    "Gambar yang dikumpulkan pastikan sudah dikelompokkan dalam folder sesuai labelnya.\n",
    "\n",
    "Contoh:<br>\n",
    "Gambar Kucing dalam satu folder yang diberi nama \"kucing\" <br>\n",
    "Gambar Anjing dalam satu folder yang diberi nama \"anjing\" <br>\n",
    "dst."
   ]
  },
  {
   "cell_type": "markdown",
   "id": "29b83e95",
   "metadata": {},
   "source": [
    "#### 2. Pelabelan Data Gambar\n",
    "\n",
    "Dilakukan dengan mengubah gambar ke format matriks lalu ditambahkan (append) ke dalam list (list data gambar), sebagai X. <br>\n",
    "Label juga ditambahkan (append) ke dalam list (list label), sebagai Y.\n",
    "\n",
    "File gambar disimpan dalam matriks/array 3 dimensi.\n",
    "\n",
    "<img src=\"https://miro.medium.com/max/1200/1*sxnhgeSptW8Jfol8XUyP-Q.png\" align=\"left\" width=\"650px\">"
   ]
  },
  {
   "cell_type": "markdown",
   "id": "1c624089",
   "metadata": {},
   "source": [
    "<br><br>\n",
    "Format matriks (numpy array) 3 dimensi pada data gambar: <br>\n",
    "y = baris (lebar pixel gambar) <br>\n",
    "x = kolom (panjang pixel gambar) <br>\n",
    "c = channel (warna RGB yang terkandung) <br>\n",
    "\n",
    "Umumnya <br>\n",
    "Channel ke-0 = RED <br>\n",
    "Channel ke-1 = GREEN <br>\n",
    "Channel ke-2 = BLUE <br>\n",
    "\n",
    "<img src=\"https://miro.medium.com/max/1400/1*vd3JXBI0O4occyYHV8FC_Q.png\" align=\"left\" width=\"700px\">"
   ]
  },
  {
   "cell_type": "markdown",
   "id": "0dd95d19",
   "metadata": {},
   "source": [
    "#### 3. Pembagian Data\n",
    "\n",
    "Pembagian data menggunakan Train-Test-Split dengan perbandingan bebas, yang penting data training jauh lebih banyak (umumnya 80:20)"
   ]
  },
  {
   "cell_type": "markdown",
   "id": "bea6efdf",
   "metadata": {},
   "source": [
    "#### 4. Training Model\n",
    "\n",
    "<ol>\n",
    "    <li>Mengimpor library yang diperlukan.</li>\n",
    "    <li>Membangun kerangka model.</li>\n",
    "    <li>Melakukan proses fitting terhadap data training.</li>\n",
    "    <li>Menampilkan grafik hasil training berupa akurasi dan loss.</li>\n",
    "</ol>"
   ]
  },
  {
   "cell_type": "markdown",
   "id": "3ada2b7f",
   "metadata": {},
   "source": [
    "<img src=\"https://miro.medium.com/max/1400/1*3CIrmxmNJnzNg8J2KFL2AQ.gif\" align=\"left\" width=\"750px\">"
   ]
  },
  {
   "cell_type": "markdown",
   "id": "a7152fc6",
   "metadata": {},
   "source": [
    "#### 5. Testing dan Evaluasi\n",
    "\n",
    "<ol>\n",
    "    <li>Menggunakan learned model untuk memprediksi data testing.</li>\n",
    "    <li>Bandingkan hasil prediksi (Y_pred) dengan label sebenarnya (Y_test).</li>\n",
    "    <li>Lakukan evaluasi dengan membuat confusion matrix.</li>\n",
    "    <li>Menentukan metrik evaluasi yang diinginkan.</li>\n",
    "</ol>"
   ]
  },
  {
   "cell_type": "markdown",
   "id": "a4ce55e7",
   "metadata": {},
   "source": [
    "#### 6. Implementasi Model (Deployment)\n",
    "\n",
    "Melakukan deployment agar sistem Machine Learning dapat digunakan langsung oleh user dengan tetap menerapkan prinsip UX-friendly."
   ]
  },
  {
   "cell_type": "markdown",
   "id": "d997c598",
   "metadata": {},
   "source": [
    "# Natural Language Processing (NLP)"
   ]
  },
  {
   "cell_type": "markdown",
   "id": "d087249e",
   "metadata": {},
   "source": [
    "NLP adalah sebuah teknik dalam machine learning yang dapat <b>menganalisis dan merepresentasi bahasa manusia</b> dengan menggunakan algoritma tertentu."
   ]
  },
  {
   "cell_type": "markdown",
   "id": "248c3e3a",
   "metadata": {},
   "source": [
    "Dengan menentukan struktur dari suatu bahasa, 'mesin' dapat memproses kata, frase, dan kalimat. \n",
    "\n",
    "<img src=\"https://i.ibb.co/m4mpyHm/image.png\" align=\"left\" width=\"500px\">\n"
   ]
  },
  {
   "cell_type": "markdown",
   "id": "2bb3a9d6",
   "metadata": {},
   "source": [
    "### Masalah dalam NLP\n",
    "\n",
    "<ul>\n",
    "    <li><b>Ketepatan Makna</b><br> \n",
    "        Kata yang sama belum tentu memiliki makna yang sama, bisa dipengaruhi kata-kata di sekitarnya (mis: jawab VS tanggung jawab)\n",
    "    </li>\n",
    "    <li><b>Pelabelan Data</b><br> \n",
    "        Label yang diberikan harus bisa merepresentasi suatu kalimat/teks, dimana setiap bahasa memiliki struktur yang berbeda-beda. \n",
    "    </li>\n",
    "    <li><b>Konteks</b><br>  \n",
    "        Dikarenakan pengertian suatu kata harus didasari oleh konteksnya, sistem NLP harus bisa mengartikan konteksnya, namun mesin sangat kesulitan dalam mengerti konteks kalimat.<br>\n",
    "        Contoh: <i>Sudirman adalah pahlawan dari Indonesia.</i> VS <i>Nanti sore kita ke Sudirman.</i>\n",
    "    </li>\n",
    "    <li><b>Struktur Kalimat</b><br> \n",
    "        Penggunaan struktur kalimat yang sangat bervariasi dalam bahasa manusia akan menjadi tantangan yang sangat besar bagi mesin untuk mengertinya.\n",
    "    </li>\n",
    "</ul>"
   ]
  },
  {
   "cell_type": "markdown",
   "id": "76a4cac5",
   "metadata": {},
   "source": [
    "### Contoh Implementasi NLP\n",
    "\n",
    "<ul>\n",
    "    <li>Aplikasi Mesin Pencari (Search Engine), mis: Google Search, Bing, dll.</li>\n",
    "    <li>Penerjemah (Translator)</li>\n",
    "    <li>Ekstraksi Informasi (Information Extraction), mis: penentuan kesimpulan paragraf, tema teks, pengecekan plagiarisme dll.</li>\n",
    "    <li>Analisis Sentimen</li>\n",
    "    <li>Klasifikasi Teks</li>\n",
    "    <li>Chatbot</li>\n",
    "    <li>Berkaitan dengan Audio: Speech Recognition, TTS (Text-to-Speech)</li>\n",
    "</ul>"
   ]
  },
  {
   "cell_type": "markdown",
   "id": "b28b633c",
   "metadata": {},
   "source": [
    "### Prosedur Membangun Model NLP"
   ]
  },
  {
   "cell_type": "markdown",
   "id": "2f04d446",
   "metadata": {},
   "source": [
    "<img src=\"https://i.ibb.co/gRfycQ5/image.png\" align=\"left\" width=\"750px\">"
   ]
  },
  {
   "cell_type": "markdown",
   "id": "748a510c",
   "metadata": {},
   "source": [
    "#### 1. Pengumpulan & Pelabelan Data Teks\n",
    "\n",
    "Data teks bisa dikumpulkan dari sumber terbuka/tertutup.<br>\n",
    "Pastikan data sudah berlabel. Jika belum, dapat dilakukan pelabelan data."
   ]
  },
  {
   "cell_type": "markdown",
   "id": "23e2ce25",
   "metadata": {},
   "source": [
    "#### 2. Preprocessing Data\n",
    "\n",
    "Beberapa teknik yang dapat dilakukan:\n",
    "<ul>\n",
    "    <li>Case Folding : mengecilkan seluruh huruf.</li>\n",
    "    <li>Punctual Removal : menghilangkan simbol, angka, dan tanda baca.</li>\n",
    "    <li>Stopword Removal : menghapus kata umum yang sering muncul namun tidak memiliki arti, mis: yang, dari, di, sebagai, adalah, dll. </li>\n",
    "    <li>Normalisasi/Standarisasi : mengubah kata-kata tidak normal (kata gaul, singkatan, typo) menjadi kata normal.</li>\n",
    "    <li>Stemming : menghapus imbuhan dari suatu kata berimbuhan (mis: writing &#8594; writ).</li>\n",
    "    <li>Lemmatization : mengambil kata dasar dari suatu kata berimbuhan (mis: writing &#8594; write).</li>\n",
    "    <li>Tokenisasi : memcah kalimat/frase menjadi kata atau kelompok kata.</li>\n",
    "</ul>"
   ]
  },
  {
   "cell_type": "markdown",
   "id": "51c114ee",
   "metadata": {},
   "source": [
    "#### 3. Ekstraksi Fitur Kata (Vektorisasi)\n",
    "\n",
    "Manusia berkomunikasi dengan kalimat dan kata-kata, sedangkan Mesin/Komputer hanya mengerti angka-angka, sehingga diperlukan teknik untuk mengubah kata-kata menjadi angka-angka yang disebut <b><i>vektorisasi teks (text vectorization)</i></b>.\n",
    "\n",
    "Beberapa metode yang dapat dilakukan:\n",
    "<ul>\n",
    "    <li>One Hot Encoding <br>\n",
    "        <img src=\"https://i.ibb.co/NrfS6F0/image.png\" align=\"left\" width=\"300px\"> &nbsp; &nbsp; &nbsp; &nbsp;\n",
    "        <img src=\"https://i0.wp.com/structilmy.com/wp-content/uploads/2019/07/we_1.png\" width=\"300px\">\n",
    "    </li>\n",
    "</ul>"
   ]
  },
  {
   "cell_type": "markdown",
   "id": "bae6b487",
   "metadata": {},
   "source": [
    "<ul>\n",
    "    <li>Bag-of-Words (BoW) <br>\n",
    "        <img src=\"https://miro.medium.com/max/661/1*3K9GIOVLNu0cRvQap_KaRg.png\" align=\"left\" width=\"600px\"><br>\n",
    "    </li>\n",
    "</ul>"
   ]
  },
  {
   "cell_type": "markdown",
   "id": "bde330bd",
   "metadata": {},
   "source": [
    "<ul>\n",
    "    <li>TF-IDF (Term Frequency - Inverse Document Frequency) <br>\n",
    "        <img src=\"https://i.ibb.co/YPCCHBK/image.png\" align=\"left\" width=\"600px\"><br>\n",
    "    </li>\n",
    "</ul>"
   ]
  },
  {
   "cell_type": "markdown",
   "id": "ab5d1e9b",
   "metadata": {},
   "source": [
    "<ul>\n",
    "    <li>Word Embeddings<br> \n",
    "        - Non-Contextual Embeddings, misalnya: FastText, Word2Vec, Global Vectors (GloVe).<br> \n",
    "        - Contextual Word Representation, misalnya: Context2Vec, Contextualized word representations Vectors (CoVe), Embedding from language Models (ELMo), Universal Language Model Fine-Tuning (ULMFiT), Transformer, GPT (OpenAI Transformer), Bidirectional Encoder Representations from Transformers (BERT). <br> \n",
    "        <img src=\"https://i0.wp.com/structilmy.com/wp-content/uploads/2019/07/we_2.png?resize=300%2C184&ssl=1\" align=\"left\" width=\"320px\"><br>\n",
    "    </li>\n",
    "</ul>"
   ]
  },
  {
   "cell_type": "markdown",
   "id": "fbe5aa5d",
   "metadata": {},
   "source": [
    "#### 4. Pembagian Data\n",
    "\n",
    "Pembagian data menggunakan Train-Test-Split dengan perbandingan bebas, yang penting data training jauh lebih banyak (umumnya 80:20)\n"
   ]
  },
  {
   "cell_type": "markdown",
   "id": "5790230f",
   "metadata": {},
   "source": [
    "#### 5. Training Model\n",
    "\n",
    "<ol>\n",
    "    <li>Mengimpor library yang diperlukan.</li>\n",
    "    <li>Membangun kerangka model dari algoritma yang ditentukan.</li>\n",
    "    <li>Melakukan proses fitting terhadap data training.</li>\n",
    "    <li>Menampilkan grafik hasil training berupa akurasi dan loss.</li>\n",
    "</ol>"
   ]
  },
  {
   "cell_type": "markdown",
   "id": "d5a34a6d",
   "metadata": {},
   "source": [
    "#### 6. Testing dan Evaluasi\n",
    "\n",
    "<ol>\n",
    "    <li>Menggunakan learned model untuk memprediksi data testing.</li>\n",
    "    <li>Bandingkan hasil prediksi (Y_pred) dengan label sebenarnya (Y_test).</li>\n",
    "    <li>Lakukan evaluasi dengan membuat confusion matrix.</li>\n",
    "    <li>Menentukan metrik evaluasi yang diinginkan.</li>\n",
    "</ol>"
   ]
  },
  {
   "cell_type": "markdown",
   "id": "239d25a9",
   "metadata": {},
   "source": [
    "#### 7. Implementasi Model (Deployment)\n",
    "\n",
    "Melakukan deployment agar sistem Machine Learning dapat digunakan langsung oleh user dengan tetap menerapkan prinsip UX-friendly."
   ]
  },
  {
   "cell_type": "markdown",
   "id": "a985d86d",
   "metadata": {},
   "source": [
    "<br><br>\n",
    "\n",
    "# TUGAS 1\n",
    "\n",
    "### Apa yang dikerjakan?\n",
    "<ul>\n",
    "    <li>Sediakan dataset IMAGE dan TEXT masing-masing satu.</li>\n",
    "    <li>Jumlah data minimal 600.</li>\n",
    "    <li>Sumber boleh dari hasil crawling sendiri atau pakai dataset open-source.</li>\n",
    "    <li>Pastikan dataset sudah berlabel, jika tidak harus labelling sendiri.</li>\n",
    "    <li>Dataset Image <b>tidak boleh</b> menggunakan dataset Hand Gesture. </li>\n",
    "</ul>\n",
    "\n",
    "### Gimana kerjakannya?\n",
    "<ul>\n",
    "    <li>Kerjakan di Word dan dikumpulkan dalam format PDF.</li>\n",
    "    <li>Tuliskan Data Diri: NAMA, NIM, Trip(yang sudah diubah), Tanggal Pengerjaan. </li>\n",
    "    <li>Tuliskan \"TUGAS 1 LAB PML\" besar di tengah sebagai judul.</li>\n",
    "    <li>Tuliskan halaman web tempat masing-masing dataset diambil beserta tanggal dan waktunya.</li>\n",
    "    <li>Screenshot halaman web tempat dataset diambil (harus nampak tanggal dan waktu screenshot).</li>\n",
    "    <li>Screenshot isi dataset: IMAGE (folder-foldernya dan gambar-gambarnya), TEXT (bentuk CSV/XLSX dalam Excel).</li>\n",
    "    <li>Tuliskan total data yang diperoleh (masing-masing: image dan text)</li>\n",
    "    <li>Tuliskan tujuan dari sistem machine learning yang akan dibuat menggunakan dataset yang kamu kumpulkan.</li>\n",
    "</ul>\n",
    "\n",
    "### Gimana kumpulnya?\n",
    "<ul>\n",
    "    <li><b>DEADLINE</b>: Kamis, 20 Oktober 2022, 18:00 WIB.</li>\n",
    "    <li>Filename: NIM_Nama_LabPML_Tugas1.pdf</li>\n",
    "    <li>Link Pengumpulan: <a href=\"https://forms.gle/vyiz6QtnKP55Bzvj9\" target=\"_blank\">https://forms.gle/vyiz6QtnKP55Bzvj9</a></li>\n",
    "</ul>\n",
    "\n",
    "### WARNING\n",
    "<ul>\n",
    "    <li>Dilarang telat mengumpulkan tugas, karena link langsung ditutup ketika deadline.</li>\n",
    "    <li>Dilarang menyontek, apalagi copy paste! Jika ketahuan, nilainya dibagi rata.</li>\n",
    "    <li>Tugas dikerjakan tidak sesuai ketentuan = diskon nilai.</li>\n",
    "</ul>"
   ]
  },
  {
   "cell_type": "code",
   "execution_count": null,
   "id": "1d759b20",
   "metadata": {},
   "outputs": [],
   "source": []
  }
 ],
 "metadata": {
  "kernelspec": {
   "display_name": "Python 3",
   "language": "python",
   "name": "python3"
  },
  "language_info": {
   "codemirror_mode": {
    "name": "ipython",
    "version": 3
   },
   "file_extension": ".py",
   "mimetype": "text/x-python",
   "name": "python",
   "nbconvert_exporter": "python",
   "pygments_lexer": "ipython3",
   "version": "3.9.2"
  }
 },
 "nbformat": 4,
 "nbformat_minor": 5
}
