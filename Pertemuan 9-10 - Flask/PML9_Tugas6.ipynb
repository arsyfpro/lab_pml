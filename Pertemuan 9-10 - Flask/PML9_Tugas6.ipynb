{
 "cells": [
  {
   "cell_type": "markdown",
   "id": "b0e4c8d3",
   "metadata": {},
   "source": [
    "# TUGAS 6\n",
    "\n",
    "### Apa dan gimana tugasnya?\n",
    "<ul>\n",
    "    <li>Lanjutkan deployment menggunakan Flask (dari text editor) pada saat Praktikum Pertemuan 9 hingga bisa menampilkan contoh tabel preprocessing.</li>\n",
    "    <li>Gunakan dataset Pertemuan 4.</li>\n",
    "    <li>Screenshot list direktori (yg di sebelah kiri text editor).</li>\n",
    "    <li>Screenshot keseluruhan sourcecode (models.py , app.py , script.js)</li>\n",
    "    <li>Screenshot <b>sourcecode HTML</b> bagian tertentu: Form input training dataset (dari tag buka form smpe tag tutup form), Loading GIF (nampak img src), Tabel output preprocessing (dari tag buka tabel smpe tag tutup tabel)  </li>\n",
    "    <li>Screenshot tampilan web: judul/home section, form training, saat loading gif muncul, tabel preprocessing</li>\n",
    "    <li>Screenshot tampilan CMD terakhir setelah preprocessing selesai (tidak perlu screenshot dari awal).</li>\n",
    "    <li>Semuanya dibuat ke Format Word dan dikumpulkan dalam format PDF (tidak perlu penjelasan).</li>\n",
    "    <li>Gunakan judul \"TUGAS 6 LAB PML\".</li>\n",
    "</ul>\n",
    "\n",
    "### Gimana kumpulnya?\n",
    "<ul>\n",
    "    <li><b>DEADLINE</b>: Senin, 12 Desember 2022, 23:59 WIB.</li>\n",
    "    <li>Filename: NIM_Nama_LabPML_Tugas6.pdf</li>\n",
    "    <li>Link Pengumpulan: <a href=\"https://forms.gle/jdT13K3vmfQR3j6r5\" target=\"_blank\">https://forms.gle/jdT13K3vmfQR3j6r5</a></li>\n",
    "</ul>\n",
    "\n",
    "### WARNING!\n",
    "<ul>\n",
    "    <li>Tugas dikerjakan tidak sesuai ketentuan = diskon nilai (Bisa aja potong sampai nol)</li>\n",
    "    <li>Dilarang telat mengumpulkan tugas, karena link langsung ditutup ketika deadline.</li>\n",
    "    <li>Dilarang menyontek, apalagi copy paste! Jika ketahuan, nilainya dibagi rata.</li>\n",
    "</ul>"
   ]
  },
  {
   "cell_type": "code",
   "execution_count": null,
   "id": "66317017",
   "metadata": {},
   "outputs": [],
   "source": []
  }
 ],
 "metadata": {
  "kernelspec": {
   "display_name": "Python 3",
   "language": "python",
   "name": "python3"
  },
  "language_info": {
   "codemirror_mode": {
    "name": "ipython",
    "version": 3
   },
   "file_extension": ".py",
   "mimetype": "text/x-python",
   "name": "python",
   "nbconvert_exporter": "python",
   "pygments_lexer": "ipython3",
   "version": "3.9.2"
  }
 },
 "nbformat": 4,
 "nbformat_minor": 5
}
