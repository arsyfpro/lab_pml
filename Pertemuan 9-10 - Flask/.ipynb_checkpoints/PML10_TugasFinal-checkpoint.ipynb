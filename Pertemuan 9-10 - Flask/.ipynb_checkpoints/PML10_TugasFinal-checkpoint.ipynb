{
 "cells": [
  {
   "cell_type": "markdown",
   "id": "5fa7bc77",
   "metadata": {},
   "source": [
    "# TUGAS FINAL\n",
    "\n",
    "### Apa dan gimana tugasnya?\n",
    "<ul>\n",
    "    <li>Lakukan deployment menggunakan Flask (dari text editor) untuk TRAINING & TESTING.</li>\n",
    "    <li>Gunakan dataset yang dikumpulkan masing-masing.</li>\n",
    "    <li>Pastikan template HTML menarik, bukan yang sederhana.</li>\n",
    "    <li>Screen record keseluruhan sourcecode (models.py , app.py , script.js, HTML) dengan cara scroll pelan-pelan agar terbaca semuanya.</li>\n",
    "    <li>Screen record tampilan web awal: judul/home section, form training, form testing.</li>\n",
    "    <li>Screen record tampilan web saat dijalankan: upload file training, muncul loading gif, hasil preprocessing, grafik dan angka dari loss dan akurasi, upload file testing, muncul loading gif, nilai akurasi, confusion matrix, dan tabel hasil testing.</li>\n",
    "    <li>Saat proses training dan testing berlangsung, tampilkan window CMD yang sedang berjalan.</li>\n",
    "    <li>Pojok Kanan Bawah Video mohon dituliskan NIM dan NAMA.</li>\n",
    "    <li>Video tidak perlu audio (tidak perlu berbicara), dan tidak perlu menampilkan wajah.</li>\n",
    "</ul>\n",
    "\n",
    "### Gimana kumpulnya?\n",
    "<ul>\n",
    "    <li><b>DEADLINE</b>: Jumat, 23 Desember 2022, 23:59 WIB.</li>\n",
    "    <li>Filename: NIM_Nama_LabPML_TugasFinal.mp4</li>\n",
    "    <li>Link Pengumpulan: <a href=\"https://forms.gle/3dcDVzJUyAZujjq17\" target=\"_blank\">https://forms.gle/3dcDVzJUyAZujjq17</a></li>\n",
    "</ul>\n",
    "\n",
    "### WARNING!\n",
    "<ul>\n",
    "    <li>Tugas dikerjakan tidak sesuai ketentuan = diskon nilai (Bisa aja potong sampai nol)</li>\n",
    "    <li>Dilarang telat mengumpulkan tugas, karena link langsung ditutup ketika deadline.</li>\n",
    "    <li>Dilarang menyontek, apalagi copy paste! Jika ketahuan, nilainya dibagi rata.</li>\n",
    "</ul>"
   ]
  },
  {
   "cell_type": "markdown",
   "id": "738808df",
   "metadata": {},
   "source": [
    "Contoh Penulisan Nama & NIM pada video:\n",
    "    \n",
    "<img src=\"https://i.ibb.co/VDPkr6X/Untitled-3-01.jpg\" width=\"80%\" align=\"left\">"
   ]
  },
  {
   "cell_type": "code",
   "execution_count": null,
   "id": "111b4392",
   "metadata": {},
   "outputs": [],
   "source": []
  }
 ],
 "metadata": {
  "kernelspec": {
   "display_name": "Python 3",
   "language": "python",
   "name": "python3"
  },
  "language_info": {
   "codemirror_mode": {
    "name": "ipython",
    "version": 3
   },
   "file_extension": ".py",
   "mimetype": "text/x-python",
   "name": "python",
   "nbconvert_exporter": "python",
   "pygments_lexer": "ipython3",
   "version": "3.9.2"
  }
 },
 "nbformat": 4,
 "nbformat_minor": 5
}
