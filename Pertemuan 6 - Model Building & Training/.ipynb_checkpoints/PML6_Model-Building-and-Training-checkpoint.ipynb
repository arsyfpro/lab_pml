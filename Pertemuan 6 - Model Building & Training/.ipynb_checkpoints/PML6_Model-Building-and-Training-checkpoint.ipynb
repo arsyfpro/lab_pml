{
 "cells": [
  {
   "cell_type": "markdown",
   "id": "ef9a7696",
   "metadata": {},
   "source": [
    "<b>Pertemuan 6 Lab PML</b> <br>\n",
    "&#169; Gary Alvaro"
   ]
  },
  {
   "cell_type": "markdown",
   "id": "143a9770",
   "metadata": {},
   "source": [
    "## Import Libraries yang dibutuhkan"
   ]
  },
  {
   "cell_type": "code",
   "execution_count": 22,
   "id": "52602e30",
   "metadata": {},
   "outputs": [
    {
     "name": "stderr",
     "output_type": "stream",
     "text": [
      "[nltk_data] Downloading package stopwords to C:\\Users\\GARY\n",
      "[nltk_data]     ALVARO\\AppData\\Roaming\\nltk_data...\n",
      "[nltk_data]   Package stopwords is already up-to-date!\n"
     ]
    }
   ],
   "source": [
    "# Import Pandas\n",
    "import pandas as pd\n",
    "# Settingan di Pandas untuk menghilangkan warning\n",
    "pd.options.mode.chained_assignment = None  # default='warn'\n",
    "\n",
    "# Import Numpy\n",
    "import numpy as np\n",
    "\n",
    "# Loading Bar TQDM\n",
    "from tqdm import tqdm\n",
    "\n",
    "# Stopword Removal\n",
    "import nltk\n",
    "from nltk.corpus import stopwords\n",
    "nltk.download('stopwords')\n",
    "from nltk.tokenize import word_tokenize\n",
    "\n",
    "# Stemming (Sastrawi)\n",
    "from Sastrawi.Stemmer.StemmerFactory import StemmerFactory\n",
    "\n",
    "# Tokenizer\n",
    "from keras.preprocessing.text import Tokenizer\n",
    "from keras.preprocessing.sequence import pad_sequences\n",
    "\n",
    "# Pickle FastText\n",
    "import pickle\n",
    "\n",
    "# Split Data\n",
    "from sklearn.model_selection import train_test_split\n",
    "\n",
    "# Model Building\n",
    "import tensorflow as tf\n",
    "from tensorflow import keras\n",
    "from tensorflow.keras.layers import Embedding, Conv1D, GlobalMaxPooling1D, Dropout, LSTM, Dense\n",
    "from tensorflow.keras.backend import clear_session\n",
    "from keras.models import load_model\n",
    "\n",
    "# Callbacks\n",
    "from keras.callbacks import ModelCheckpoint\n",
    "from tensorflow.keras.callbacks import EarlyStopping\n",
    "\n",
    "# Grafik\n",
    "import matplotlib.pyplot as plt\n",
    "import seaborn as sns\n",
    "sns.set_style(\"whitegrid\")\n",
    "np.random.seed(0)"
   ]
  },
  {
   "cell_type": "markdown",
   "id": "fc4b17d3",
   "metadata": {},
   "source": [
    "## Mendefinisikan Variabel Penting"
   ]
  },
  {
   "cell_type": "code",
   "execution_count": 2,
   "id": "1e59c1e4",
   "metadata": {},
   "outputs": [],
   "source": [
    "testSize = 0.15 #Pembagian ukuran datatesing\n",
    "\n",
    "MAX_NB_WORDS = 100000 #Maximum jumlah kata pada vocabulary yang akan dibuat\n",
    "max_seq_len = 46 #Panjang kalimat maximum\n",
    "\n",
    "num_epochs = 40 #Jumlah perulangan / epoch saat proses training\n",
    "\n",
    "aspek_kategori = ['akurasi', 'kualitas', 'pelayanan', 'pengemasan', 'harga', 'pengiriman']"
   ]
  },
  {
   "cell_type": "markdown",
   "id": "412a1ca6",
   "metadata": {},
   "source": [
    "## Read & Split Data"
   ]
  },
  {
   "cell_type": "code",
   "execution_count": 3,
   "id": "d05e8dea",
   "metadata": {},
   "outputs": [],
   "source": [
    "def read_data(filename):\n",
    "    # Membaca file CSV ke dalam Dataframe\n",
    "    df = pd.read_csv(filename) \n",
    "    \n",
    "    # Encoding Categorical Data (Mengubah data kategorikal menjadi angka)\n",
    "    label_dict = {'negatif':0, 'positif':1, '-':99}\n",
    "    df['s_akurasi'] = df['s_akurasi'].replace(label_dict)\n",
    "    df['s_kualitas'] = df['s_kualitas'].replace(label_dict)\n",
    "    df['s_pelayanan'] = df['s_pelayanan'].replace(label_dict)\n",
    "    df['s_pengemasan'] = df['s_pengemasan'].replace(label_dict)\n",
    "    df['s_harga'] = df['s_harga'].replace(label_dict)\n",
    "    df['s_pengiriman'] = df['s_pengiriman'].replace(label_dict)    \n",
    "    \n",
    "    # Membagi dataframe menjadi data training & testing\n",
    "    df_training, df_testing = train_test_split(df, test_size=testSize, random_state=42, shuffle=True)\n",
    "\n",
    "    # Reset Index\n",
    "    df_training = df_training.reset_index()\n",
    "    df_testing = df_testing.reset_index()\n",
    "\n",
    "    return df_training, df_testing"
   ]
  },
  {
   "cell_type": "markdown",
   "id": "7b45a694",
   "metadata": {},
   "source": [
    "## Preprocessing\n",
    "\n",
    "Kali ini, preprocessing akan dibuat dalam bentuk singkat menggunakan fungsi.\n",
    "\n",
    "Lakukan pendefenisian fungsi dan pemanggilan fungsi."
   ]
  },
  {
   "cell_type": "code",
   "execution_count": 4,
   "id": "e26b79bd",
   "metadata": {},
   "outputs": [],
   "source": [
    "def preprocessing(data):\n",
    "    # Case Folding\n",
    "    data['lower'] = data['teks'].str.lower()\n",
    "    \n",
    "    # Punctual Removal\n",
    "    data['punctual'] = data['lower'].str.replace('[^a-zA-Z]+',' ', regex=True)\n",
    "    \n",
    "    # Normalization\n",
    "    kamus_baku = pd.read_csv('../Pertemuan 4 - Preprocessing NLP/kata_baku.csv', sep=\";\")\n",
    "    dict_kamus_baku = kamus_baku[['slang','baku']].to_dict('list')\n",
    "    dict_kamus_baku = dict(zip(dict_kamus_baku['slang'], dict_kamus_baku['baku']))\n",
    "    norm = []\n",
    "    for i in data['punctual']:\n",
    "        res = \" \".join(dict_kamus_baku.get(x, x) for x in str(i).split())\n",
    "        norm.append(str(res))\n",
    "    data['normalize'] = norm\n",
    "    \n",
    "    # Stopword Removal\n",
    "    stop_words = set(stopwords.words('indonesian'))\n",
    "    swr = []\n",
    "    for i in tqdm(data['normalize']):\n",
    "        tokens = word_tokenize(i)\n",
    "        filtered = [word for word in tokens if word not in stop_words]\n",
    "        swr.append(\" \".join(filtered))\n",
    "    data['stopwords'] = swr\n",
    "    \n",
    "    # Stemming\n",
    "    factory = StemmerFactory()\n",
    "    stemmer = factory.create_stemmer()\n",
    "    stem = []\n",
    "    for i in tqdm(data['stopwords']):\n",
    "        stem.append(stemmer.stem(str(i)))\n",
    "    data['stemmed'] = stem\n",
    "    \n",
    "    return data"
   ]
  },
  {
   "cell_type": "code",
   "execution_count": 5,
   "id": "67cd6930",
   "metadata": {},
   "outputs": [],
   "source": [
    "# Pemanggilan fungsi read_data\n",
    "\n",
    "filename = \"../Pertemuan 4 - Preprocessing NLP/DatasetReviewProduk-LabPML.csv\"\n",
    "df_training, df_testing = read_data(filename)"
   ]
  },
  {
   "cell_type": "code",
   "execution_count": 6,
   "id": "692ffe36",
   "metadata": {},
   "outputs": [
    {
     "data": {
      "text/html": [
       "<div>\n",
       "<style scoped>\n",
       "    .dataframe tbody tr th:only-of-type {\n",
       "        vertical-align: middle;\n",
       "    }\n",
       "\n",
       "    .dataframe tbody tr th {\n",
       "        vertical-align: top;\n",
       "    }\n",
       "\n",
       "    .dataframe thead th {\n",
       "        text-align: right;\n",
       "    }\n",
       "</style>\n",
       "<table border=\"1\" class=\"dataframe\">\n",
       "  <thead>\n",
       "    <tr style=\"text-align: right;\">\n",
       "      <th></th>\n",
       "      <th>index</th>\n",
       "      <th>teks</th>\n",
       "      <th>akurasi</th>\n",
       "      <th>kualitas</th>\n",
       "      <th>pelayanan</th>\n",
       "      <th>pengemasan</th>\n",
       "      <th>harga</th>\n",
       "      <th>pengiriman</th>\n",
       "      <th>s_akurasi</th>\n",
       "      <th>s_kualitas</th>\n",
       "      <th>s_pelayanan</th>\n",
       "      <th>s_pengemasan</th>\n",
       "      <th>s_harga</th>\n",
       "      <th>s_pengiriman</th>\n",
       "    </tr>\n",
       "  </thead>\n",
       "  <tbody>\n",
       "    <tr>\n",
       "      <th>0</th>\n",
       "      <td>382</td>\n",
       "      <td>Barang sesuai ekspektasi, mudah2an awet</td>\n",
       "      <td>1</td>\n",
       "      <td>0</td>\n",
       "      <td>0</td>\n",
       "      <td>0</td>\n",
       "      <td>0</td>\n",
       "      <td>0</td>\n",
       "      <td>1</td>\n",
       "      <td>99</td>\n",
       "      <td>99</td>\n",
       "      <td>99</td>\n",
       "      <td>99</td>\n",
       "      <td>99</td>\n",
       "    </tr>\n",
       "    <tr>\n",
       "      <th>1</th>\n",
       "      <td>538</td>\n",
       "      <td>Muantabssss, jahitan rapih, bahan Adem. Recomm...</td>\n",
       "      <td>0</td>\n",
       "      <td>1</td>\n",
       "      <td>0</td>\n",
       "      <td>0</td>\n",
       "      <td>0</td>\n",
       "      <td>0</td>\n",
       "      <td>99</td>\n",
       "      <td>1</td>\n",
       "      <td>99</td>\n",
       "      <td>99</td>\n",
       "      <td>99</td>\n",
       "      <td>99</td>\n",
       "    </tr>\n",
       "    <tr>\n",
       "      <th>2</th>\n",
       "      <td>1493</td>\n",
       "      <td>Menang di model aja simpel. Suaranya pelan cen...</td>\n",
       "      <td>0</td>\n",
       "      <td>1</td>\n",
       "      <td>0</td>\n",
       "      <td>0</td>\n",
       "      <td>0</td>\n",
       "      <td>0</td>\n",
       "      <td>99</td>\n",
       "      <td>0</td>\n",
       "      <td>99</td>\n",
       "      <td>99</td>\n",
       "      <td>99</td>\n",
       "      <td>99</td>\n",
       "    </tr>\n",
       "    <tr>\n",
       "      <th>3</th>\n",
       "      <td>1112</td>\n",
       "      <td>Brg oke..mntaaplah</td>\n",
       "      <td>0</td>\n",
       "      <td>1</td>\n",
       "      <td>0</td>\n",
       "      <td>0</td>\n",
       "      <td>0</td>\n",
       "      <td>0</td>\n",
       "      <td>99</td>\n",
       "      <td>1</td>\n",
       "      <td>99</td>\n",
       "      <td>99</td>\n",
       "      <td>99</td>\n",
       "      <td>99</td>\n",
       "    </tr>\n",
       "    <tr>\n",
       "      <th>4</th>\n",
       "      <td>324</td>\n",
       "      <td>paket bagus Namun akan lebih baik apabila deck...</td>\n",
       "      <td>1</td>\n",
       "      <td>0</td>\n",
       "      <td>0</td>\n",
       "      <td>1</td>\n",
       "      <td>0</td>\n",
       "      <td>0</td>\n",
       "      <td>0</td>\n",
       "      <td>99</td>\n",
       "      <td>99</td>\n",
       "      <td>1</td>\n",
       "      <td>99</td>\n",
       "      <td>99</td>\n",
       "    </tr>\n",
       "    <tr>\n",
       "      <th>...</th>\n",
       "      <td>...</td>\n",
       "      <td>...</td>\n",
       "      <td>...</td>\n",
       "      <td>...</td>\n",
       "      <td>...</td>\n",
       "      <td>...</td>\n",
       "      <td>...</td>\n",
       "      <td>...</td>\n",
       "      <td>...</td>\n",
       "      <td>...</td>\n",
       "      <td>...</td>\n",
       "      <td>...</td>\n",
       "      <td>...</td>\n",
       "      <td>...</td>\n",
       "    </tr>\n",
       "    <tr>\n",
       "      <th>1195</th>\n",
       "      <td>1130</td>\n",
       "      <td>Brg lumayan bagus,walaupun hrganya murah</td>\n",
       "      <td>0</td>\n",
       "      <td>1</td>\n",
       "      <td>0</td>\n",
       "      <td>0</td>\n",
       "      <td>1</td>\n",
       "      <td>0</td>\n",
       "      <td>99</td>\n",
       "      <td>1</td>\n",
       "      <td>99</td>\n",
       "      <td>99</td>\n",
       "      <td>1</td>\n",
       "      <td>99</td>\n",
       "    </tr>\n",
       "    <tr>\n",
       "      <th>1196</th>\n",
       "      <td>1294</td>\n",
       "      <td>barang tidak sesuai di gambar. merk beda</td>\n",
       "      <td>1</td>\n",
       "      <td>0</td>\n",
       "      <td>0</td>\n",
       "      <td>0</td>\n",
       "      <td>0</td>\n",
       "      <td>0</td>\n",
       "      <td>0</td>\n",
       "      <td>99</td>\n",
       "      <td>99</td>\n",
       "      <td>99</td>\n",
       "      <td>99</td>\n",
       "      <td>99</td>\n",
       "    </tr>\n",
       "    <tr>\n",
       "      <th>1197</th>\n",
       "      <td>860</td>\n",
       "      <td>Saya kira 100% original, ternyata... Finishing...</td>\n",
       "      <td>0</td>\n",
       "      <td>1</td>\n",
       "      <td>0</td>\n",
       "      <td>0</td>\n",
       "      <td>0</td>\n",
       "      <td>0</td>\n",
       "      <td>99</td>\n",
       "      <td>0</td>\n",
       "      <td>99</td>\n",
       "      <td>99</td>\n",
       "      <td>99</td>\n",
       "      <td>99</td>\n",
       "    </tr>\n",
       "    <tr>\n",
       "      <th>1198</th>\n",
       "      <td>1459</td>\n",
       "      <td>Sesuai dengan yang dipesan. Recomended seller....</td>\n",
       "      <td>1</td>\n",
       "      <td>0</td>\n",
       "      <td>0</td>\n",
       "      <td>0</td>\n",
       "      <td>0</td>\n",
       "      <td>0</td>\n",
       "      <td>1</td>\n",
       "      <td>99</td>\n",
       "      <td>99</td>\n",
       "      <td>99</td>\n",
       "      <td>99</td>\n",
       "      <td>99</td>\n",
       "    </tr>\n",
       "    <tr>\n",
       "      <th>1199</th>\n",
       "      <td>1126</td>\n",
       "      <td>Barang cepat sampai.. sesuai pesanan</td>\n",
       "      <td>1</td>\n",
       "      <td>0</td>\n",
       "      <td>0</td>\n",
       "      <td>0</td>\n",
       "      <td>0</td>\n",
       "      <td>1</td>\n",
       "      <td>1</td>\n",
       "      <td>99</td>\n",
       "      <td>99</td>\n",
       "      <td>99</td>\n",
       "      <td>99</td>\n",
       "      <td>1</td>\n",
       "    </tr>\n",
       "  </tbody>\n",
       "</table>\n",
       "<p>1200 rows × 14 columns</p>\n",
       "</div>"
      ],
      "text/plain": [
       "      index                                               teks  akurasi  \\\n",
       "0       382            Barang sesuai ekspektasi, mudah2an awet        1   \n",
       "1       538  Muantabssss, jahitan rapih, bahan Adem. Recomm...        0   \n",
       "2      1493  Menang di model aja simpel. Suaranya pelan cen...        0   \n",
       "3      1112                                 Brg oke..mntaaplah        0   \n",
       "4       324  paket bagus Namun akan lebih baik apabila deck...        1   \n",
       "...     ...                                                ...      ...   \n",
       "1195   1130           Brg lumayan bagus,walaupun hrganya murah        0   \n",
       "1196   1294           barang tidak sesuai di gambar. merk beda        1   \n",
       "1197    860  Saya kira 100% original, ternyata... Finishing...        0   \n",
       "1198   1459  Sesuai dengan yang dipesan. Recomended seller....        1   \n",
       "1199   1126               Barang cepat sampai.. sesuai pesanan        1   \n",
       "\n",
       "      kualitas  pelayanan  pengemasan  harga  pengiriman  s_akurasi  \\\n",
       "0            0          0           0      0           0          1   \n",
       "1            1          0           0      0           0         99   \n",
       "2            1          0           0      0           0         99   \n",
       "3            1          0           0      0           0         99   \n",
       "4            0          0           1      0           0          0   \n",
       "...        ...        ...         ...    ...         ...        ...   \n",
       "1195         1          0           0      1           0         99   \n",
       "1196         0          0           0      0           0          0   \n",
       "1197         1          0           0      0           0         99   \n",
       "1198         0          0           0      0           0          1   \n",
       "1199         0          0           0      0           1          1   \n",
       "\n",
       "      s_kualitas  s_pelayanan  s_pengemasan  s_harga  s_pengiriman  \n",
       "0             99           99            99       99            99  \n",
       "1              1           99            99       99            99  \n",
       "2              0           99            99       99            99  \n",
       "3              1           99            99       99            99  \n",
       "4             99           99             1       99            99  \n",
       "...          ...          ...           ...      ...           ...  \n",
       "1195           1           99            99        1            99  \n",
       "1196          99           99            99       99            99  \n",
       "1197           0           99            99       99            99  \n",
       "1198          99           99            99       99            99  \n",
       "1199          99           99            99       99             1  \n",
       "\n",
       "[1200 rows x 14 columns]"
      ]
     },
     "execution_count": 6,
     "metadata": {},
     "output_type": "execute_result"
    }
   ],
   "source": [
    "df_training"
   ]
  },
  {
   "cell_type": "code",
   "execution_count": 7,
   "id": "775de73a",
   "metadata": {},
   "outputs": [
    {
     "name": "stderr",
     "output_type": "stream",
     "text": [
      "100%|███████████████████████████████████████████████████████████████████████████| 1200/1200 [00:00<00:00, 12699.94it/s]\n",
      "100%|██████████████████████████████████████████████████████████████████████████████| 1200/1200 [01:21<00:00, 14.75it/s]\n",
      "100%|█████████████████████████████████████████████████████████████████████████████| 300/300 [00:00<00:00, 19217.30it/s]\n",
      "100%|████████████████████████████████████████████████████████████████████████████████| 300/300 [00:24<00:00, 12.32it/s]\n"
     ]
    }
   ],
   "source": [
    "# Pemanggilan fungsi preprocessing\n",
    "\n",
    "df_training = preprocessing(df_training)\n",
    "df_testing = preprocessing(df_testing)"
   ]
  },
  {
   "cell_type": "code",
   "execution_count": 8,
   "id": "95fcae4e",
   "metadata": {},
   "outputs": [
    {
     "name": "stdout",
     "output_type": "stream",
     "text": [
      "46\n",
      "kali komplain kali kasih barang rusak driver grab salah kirim barang nunggu kirim komplain suruh grab kembali barang salah salah lapak diskusi komplain server error tramsaksi bl selesai dana terus lapak transaksi masalah komplain chat pelapam kirim ganti barang tes rusak komplain kali rusak terima kecewa\n"
     ]
    }
   ],
   "source": [
    "# Mengecek panjang kalimat maksimum\n",
    "\n",
    "longest_string = max(df_training['stemmed'].values.tolist(), key=len)\n",
    "print(len(longest_string.split()))\n",
    "\n",
    "print(longest_string)"
   ]
  },
  {
   "cell_type": "markdown",
   "id": "dca03aeb",
   "metadata": {},
   "source": [
    "## Tokenisasi"
   ]
  },
  {
   "cell_type": "code",
   "execution_count": 9,
   "id": "52dd2e84",
   "metadata": {},
   "outputs": [],
   "source": [
    "# Tokenisasi Training\n",
    "def tokenize_training(data_training):\n",
    "    global tokenizer #Menggunakan variabel global agar 'tokenizer' bisa dipake di luar fungsi ini\n",
    "    tokenizer = Tokenizer(num_words = MAX_NB_WORDS, char_level=False)\n",
    "    tokenizer.fit_on_texts(data_training['stemmed'])\n",
    "    word_index = tokenizer.word_index\n",
    "    \n",
    "    train_sequences = tokenizer.texts_to_sequences(data_training['stemmed'])\n",
    "    word_seq_train = pad_sequences(train_sequences, maxlen = max_seq_len)\n",
    "\n",
    "    return word_index, word_seq_train\n",
    "\n",
    "\n",
    "# Tokenisasi Testing\n",
    "def tokenize_testing(data_testing):\n",
    "    test_sequences = tokenizer.texts_to_sequences(data_testing['stemmed'])\n",
    "    word_seq_test = pad_sequences(test_sequences, maxlen = max_seq_len)\n",
    "\n",
    "    return word_seq_test"
   ]
  },
  {
   "cell_type": "code",
   "execution_count": 10,
   "id": "aa571855",
   "metadata": {},
   "outputs": [],
   "source": [
    "# Tokenisasi secara umum\n",
    "def tokenize(data):\n",
    "    sequences = tokenizer.texts_to_sequences(data['stemmed'])\n",
    "    word_seq = pad_sequences(sequences, maxlen = max_seq_len)\n",
    "\n",
    "    return word_seq"
   ]
  },
  {
   "cell_type": "code",
   "execution_count": 11,
   "id": "9644fe1b",
   "metadata": {},
   "outputs": [],
   "source": [
    "# Pemanggilan Fungsi Tokenisasi\n",
    "\n",
    "word_index, word_seq_train = tokenize_training(df_training)\n",
    "word_seq_test = tokenize_testing(df_testing)"
   ]
  },
  {
   "cell_type": "markdown",
   "id": "29b249ad",
   "metadata": {},
   "source": [
    "## Word Embedding\n",
    "Menggunakan FastText"
   ]
  },
  {
   "cell_type": "code",
   "execution_count": 24,
   "id": "6c641ca8",
   "metadata": {},
   "outputs": [],
   "source": [
    "# Pendefenisian fungsi word embedding\n",
    "\n",
    "def word_embedding():\n",
    "    fasttext_word_to_index = pickle.load(open(\"fasttext_voc\", 'rb'))\n",
    "    \n",
    "    words_not_found = []\n",
    "    nb_words = min(MAX_NB_WORDS, len(word_index)+1)\n",
    "\n",
    "    embed_dim = 300 # dimensi matrix (dari fastTextnya cc.id.300.vec)\n",
    "    embedding_matrix = np.zeros((nb_words, embed_dim))\n",
    "\n",
    "    for word, index in word_index.items():\n",
    "        if index < nb_words:\n",
    "            embedding_vector = fasttext_word_to_index.get(word)\n",
    "            if (embedding_vector is not None) and len(embedding_vector) > 0:\n",
    "                embedding_matrix[index] = embedding_vector\n",
    "            else:\n",
    "                words_not_found.append(word)\n",
    "    \n",
    "    return embedding_matrix, nb_words, embed_dim"
   ]
  },
  {
   "cell_type": "code",
   "execution_count": 25,
   "id": "35227fe7",
   "metadata": {},
   "outputs": [],
   "source": [
    "# Pemanggilan Fungsi word embedding\n",
    "\n",
    "embedding_matrix, nb_words, embed_dim = word_embedding()"
   ]
  },
  {
   "cell_type": "markdown",
   "id": "d1a072e2",
   "metadata": {},
   "source": [
    "## Penentuan X dan Y\n",
    "\n",
    "<b>Disclaimer :</b> Pada file pertemuan ini memang dibahas mengenai cara klasifikasi teks dengan studi kasus 'Aspect-Based Sentiment Analysis', namun untuk mempersingkat waktu, tidak semua aspek akan dibahas, hanya menggunakan contoh aspek 'Pengiriman' saja."
   ]
  },
  {
   "cell_type": "code",
   "execution_count": 14,
   "id": "26ed7645",
   "metadata": {},
   "outputs": [],
   "source": [
    "X_train = word_seq_train\n",
    "X_test = word_seq_test\n",
    "\n",
    "Y_train_pengiriman = df_training['pengiriman']\n",
    "Y_test_pengiriman = df_testing['pengiriman']"
   ]
  },
  {
   "cell_type": "code",
   "execution_count": 19,
   "id": "503b0344",
   "metadata": {},
   "outputs": [],
   "source": [
    "data_training_pengiriman = df_training.loc[df_training['pengiriman'] == 1]\n",
    "word_seq_train_pengiriman = tokenize(data_training_pengiriman)\n",
    "X_train_s_pengiriman = word_seq_train_pengiriman\n",
    "\n",
    "data_testing_pengiriman = df_testing.loc[df_testing['pengiriman'] == 1]\n",
    "word_seq_test_pengiriman = tokenize(data_testing_pengiriman)\n",
    "X_test_s_pengiriman = word_seq_test_pengiriman\n",
    "\n",
    "Y_train_s_pengiriman = data_training_pengiriman['s_pengiriman']\n",
    "Y_test_s_pengiriman = data_testing_pengiriman['s_pengiriman']"
   ]
  },
  {
   "cell_type": "code",
   "execution_count": 16,
   "id": "f226d000",
   "metadata": {},
   "outputs": [
    {
     "data": {
      "text/plain": [
       "array([[   0,    0,    0, ...,   39,   66,   28],\n",
       "       [   0,    0,    0, ...,  203,   46,   13],\n",
       "       [   0,    0,    0, ...,  401,  627,  628],\n",
       "       ...,\n",
       "       [   0,    0,    0, ...,   28,   23, 1660],\n",
       "       [   0,    0,    0, ...,   34,   13,  109],\n",
       "       [   0,    0,    0, ...,    5,    2,    3]])"
      ]
     },
     "execution_count": 16,
     "metadata": {},
     "output_type": "execute_result"
    }
   ],
   "source": [
    "X_train"
   ]
  },
  {
   "cell_type": "code",
   "execution_count": 17,
   "id": "09cf8c73",
   "metadata": {},
   "outputs": [
    {
     "data": {
      "text/plain": [
       "array([[  0,   0,   0, ...,   9,  13,  30],\n",
       "       [  0,   0,   0, ...,  24,   2,   3],\n",
       "       [  0,   0,   0, ...,  30,   2,  11],\n",
       "       ...,\n",
       "       [  0,   0,   0, ...,  46,  13,  59],\n",
       "       [  0,   0,   0, ...,   5,  20, 610],\n",
       "       [  0,   0,   0, ...,   5,   2,   3]])"
      ]
     },
     "execution_count": 17,
     "metadata": {},
     "output_type": "execute_result"
    }
   ],
   "source": [
    "X_train_pengiriman"
   ]
  },
  {
   "cell_type": "markdown",
   "id": "aef7397e",
   "metadata": {},
   "source": [
    "## Model Building\n",
    "\n",
    "Menggunakan Algoritma CNN-LSTM"
   ]
  },
  {
   "cell_type": "code",
   "execution_count": 27,
   "id": "38a41c4f",
   "metadata": {},
   "outputs": [
    {
     "name": "stdout",
     "output_type": "stream",
     "text": [
      "Model: \"sequential_1\"\n",
      "_________________________________________________________________\n",
      " Layer (type)                Output Shape              Param #   \n",
      "=================================================================\n",
      " embedding_1 (Embedding)     (None, 46, 300)           498300    \n",
      "                                                                 \n",
      " conv1d_1 (Conv1D)           (None, 46, 128)           192128    \n",
      "                                                                 \n",
      " max_pooling1d_1 (MaxPooling  (None, 11, 128)          0         \n",
      " 1D)                                                             \n",
      "                                                                 \n",
      " dropout_1 (Dropout)         (None, 11, 128)           0         \n",
      "                                                                 \n",
      " lstm_1 (LSTM)               (None, 32)                20608     \n",
      "                                                                 \n",
      " dense_1 (Dense)             (None, 1)                 33        \n",
      "                                                                 \n",
      "=================================================================\n",
      "Total params: 711,069\n",
      "Trainable params: 212,769\n",
      "Non-trainable params: 498,300\n",
      "_________________________________________________________________\n"
     ]
    }
   ],
   "source": [
    "model = keras.Sequential([\n",
    "        keras.layers.Embedding(nb_words, embed_dim ,input_length=max_seq_len, \n",
    "                               weights=[embedding_matrix], trainable=False),\n",
    "        keras.layers.Conv1D(128, 5, padding='same', activation='relu'),\n",
    "        keras.layers.MaxPooling1D(pool_size=4),\n",
    "        keras.layers.Dropout(0.5),\n",
    "        keras.layers.LSTM(32),\n",
    "        keras.layers.Dense(1, activation = 'sigmoid') #softmax\n",
    "    ])\n",
    "model.summary()"
   ]
  },
  {
   "cell_type": "code",
   "execution_count": 30,
   "id": "83ecf70f",
   "metadata": {},
   "outputs": [
    {
     "name": "stdout",
     "output_type": "stream",
     "text": [
      "Epoch 1/40\n",
      "30/30 [==============================] - 2s 27ms/step - loss: 0.5683 - accuracy: 0.7885 - val_loss: 0.4988 - val_accuracy: 0.8000\n",
      "Epoch 2/40\n",
      "30/30 [==============================] - 0s 15ms/step - loss: 0.4940 - accuracy: 0.7896 - val_loss: 0.4384 - val_accuracy: 0.8000\n",
      "Epoch 3/40\n",
      "30/30 [==============================] - 0s 15ms/step - loss: 0.3960 - accuracy: 0.8135 - val_loss: 0.3286 - val_accuracy: 0.8375\n",
      "Epoch 4/40\n",
      "30/30 [==============================] - 0s 15ms/step - loss: 0.2782 - accuracy: 0.8844 - val_loss: 0.2503 - val_accuracy: 0.8917\n",
      "Epoch 5/40\n",
      "30/30 [==============================] - 0s 16ms/step - loss: 0.2115 - accuracy: 0.9083 - val_loss: 0.2778 - val_accuracy: 0.8875\n",
      "Epoch 6/40\n",
      "30/30 [==============================] - 0s 16ms/step - loss: 0.1642 - accuracy: 0.9375 - val_loss: 0.2154 - val_accuracy: 0.9250\n",
      "Epoch 7/40\n",
      "30/30 [==============================] - 0s 15ms/step - loss: 0.1417 - accuracy: 0.9490 - val_loss: 0.2201 - val_accuracy: 0.9250\n",
      "Epoch 8/40\n",
      "30/30 [==============================] - 0s 15ms/step - loss: 0.1188 - accuracy: 0.9563 - val_loss: 0.2327 - val_accuracy: 0.9250\n",
      "Epoch 9/40\n",
      "30/30 [==============================] - 0s 15ms/step - loss: 0.0960 - accuracy: 0.9688 - val_loss: 0.2492 - val_accuracy: 0.9333\n"
     ]
    }
   ],
   "source": [
    "model.compile(\n",
    "    optimizer = 'adam',\n",
    "    loss = 'binary_crossentropy',\n",
    "    metrics = ['accuracy']\n",
    ")\n",
    "\n",
    "es = tf.keras.callbacks.EarlyStopping(monitor='val_loss', mode='auto', patience=3)\n",
    "\n",
    "history_aspek = model.fit(X_train, Y_train_pengiriman,\n",
    "                        epochs = num_epochs, \n",
    "                        callbacks = [es],\n",
    "                        validation_split=0.2,\n",
    "                        verbose = True # Verbose = 0 (tidak nampak progress), 1/True (progress bar), 2 (angka)\n",
    ")"
   ]
  },
  {
   "cell_type": "code",
   "execution_count": 34,
   "id": "a4d3b930",
   "metadata": {},
   "outputs": [
    {
     "data": {
      "image/png": "[encoded data removed]",
      "text/plain": [
       "<Figure size 432x288 with 1 Axes>"
      ]
     },
     "metadata": {},
     "output_type": "display_data"
    }
   ],
   "source": [
    "plt.figure()\n",
    "plt.plot(history_aspek.history['loss'], lw=2.0, color='b', label='train')\n",
    "plt.plot(history_aspek.history['val_loss'], lw=2.0, color='r', label='val')\n",
    "plt.title(\"Loss History\")\n",
    "plt.xlabel('Epochs')\n",
    "plt.ylabel('Cross-Entropy Loss')\n",
    "plt.legend(loc='upper right')\n",
    "plt.show()"
   ]
  },
  {
   "cell_type": "code",
   "execution_count": 35,
   "id": "01990ee2",
   "metadata": {},
   "outputs": [
    {
     "data": {
      "image/png": "[encoded data removed]",
      "text/plain": [
       "<Figure size 432x288 with 1 Axes>"
      ]
     },
     "metadata": {},
     "output_type": "display_data"
    }
   ],
   "source": [
    "plt.figure()\n",
    "plt.plot(history_aspek.history['accuracy'], lw=2.0, color='b', label='train')\n",
    "plt.plot(history_aspek.history['val_accuracy'], lw=2.0, color='r', label='val')\n",
    "plt.title(\"Accuracy History\")\n",
    "plt.xlabel('Epochs')\n",
    "plt.ylabel('Accuracy')\n",
    "plt.legend(loc='upper left')\n",
    "plt.show()"
   ]
  },
  {
   "cell_type": "markdown",
   "id": "aeae7969",
   "metadata": {},
   "source": [
    "# TUGAS 4\n",
    "\n",
    "### Apa yang dikerjakan?\n",
    "<ul>\n",
    "    <li>Lakukan pembangunan model berdasarkan hasil preprocessing dari DATASET TEKS dari Tugas 2.</li>\n",
    "    <li>Kemaslah ke dalam bentuk fungsi-fungsi dan lakukan pemanggilan fungsi (Jika tidak dibuat dalam fungsi-fungsi, dipastikan langsung salah)</li>\n",
    "    <li>Tunjukkan langkah-langkah secara keseluruhan secara berurutan dengan <b>menampilkan output</b> dari setiap pemanggilan fungsi. </li>\n",
    "    <li>Gunakan algoritma selain CNN-LSTM.</li>\n",
    "    <li>Perhatikan X dan Y yang digunakan, setiap dataset berbeda-beda.</li>\n",
    "</ul>\n",
    "\n",
    "### Gimana kerjakannya?\n",
    "<ul>\n",
    "    <li>Lakukan coding di Jupyter Notebook lalu berikan penjelasan di Word dan dikumpulkan dalam format PDF.</li>\n",
    "    <li>Gunakan template Format Tugas yang sudah disediakan di Github (<a href=\"https://github.com/garyalvaro/lab_pml/raw/main/FormatTugas_LabPML.docx\" target=\"_blank\">https://github.com/garyalvaro/lab_pml/raw/main/FormatTugas_LabPML.docx</a>). </li>\n",
    "    <li>Gunakan judul \"TUGAS 4 LAB PML\".</li>\n",
    "    <li>Screenshoot setiap penggalan kode dan outputnya.</li>\n",
    "    <li>Jelaskan setiap penggalan kode, termasuk impor library, mendefenisikan variabel apa, dan prosesnya gimana.</li>\n",
    "    <li>Jangan mengikuti semua penggalan kode pada Pertemuan ini, <b>dimengerti kodingannya, baru diikuti bagian mana yang perlu diikuti!</b></li>\n",
    "</ul>\n",
    "\n",
    "### Gimana kumpulnya?\n",
    "<ul>\n",
    "    <li><b>DEADLINE</b>: Jumat, 25 November 2022, 23:59 WIB.</li>\n",
    "    <li>Filename: NIM_Nama_LabPML_Tugas4.pdf</li>\n",
    "    <li>Link Pengumpulan: <a href=\"https://forms.gle/p7b8skMWKmFVW7PW7\" target=\"_blank\">https://forms.gle/p7b8skMWKmFVW7PW7</a></li>\n",
    "</ul>\n",
    "\n",
    "### WARNING!\n",
    "<ul>\n",
    "    <li>Tugas dikerjakan tidak sesuai ketentuan = diskon nilai (Bisa aja potong sampai nol)</li>\n",
    "    <li>Dilarang telat mengumpulkan tugas, karena link langsung ditutup ketika deadline.</li>\n",
    "    <li>Dilarang menyontek, apalagi copy paste! Jika ketahuan, nilainya dibagi rata.</li>\n",
    "</ul>"
   ]
  },
  {
   "cell_type": "code",
   "execution_count": null,
   "id": "3cfd23bf",
   "metadata": {},
   "outputs": [],
   "source": []
  }
 ],
 "metadata": {
  "kernelspec": {
   "display_name": "Python 3",
   "language": "python",
   "name": "python3"
  },
  "language_info": {
   "codemirror_mode": {
    "name": "ipython",
    "version": 3
   },
   "file_extension": ".py",
   "mimetype": "text/x-python",
   "name": "python",
   "nbconvert_exporter": "python",
   "pygments_lexer": "ipython3",
   "version": "3.9.2"
  }
 },
 "nbformat": 4,
 "nbformat_minor": 5
}
