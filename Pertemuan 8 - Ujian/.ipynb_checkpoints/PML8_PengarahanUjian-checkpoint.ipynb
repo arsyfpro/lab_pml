{
 "cells": [
  {
   "cell_type": "markdown",
   "id": "691a02a4",
   "metadata": {},
   "source": [
    "<b>Pertemuan 8 Lab PML</b> <br>\n",
    "&#169; Gary Alvaro"
   ]
  },
  {
   "cell_type": "markdown",
   "id": "4cf36f70",
   "metadata": {},
   "source": [
    "# PENGARAHAN UJIAN"
   ]
  },
  {
   "cell_type": "markdown",
   "id": "16fdf734",
   "metadata": {},
   "source": [
    "## Tanggal dan Waktu\n",
    "\n",
    "Hari, Tanggal : Jumat, 02 Desember 2022\n",
    "\n",
    "Waktu : 08.10-09.40 (Sesi 1), 09.50-11.20 (Sesi 2) <br>\n",
    "<i>Hadir 10 menit sebelum ujian dimulai. <br>\n",
    "    Telat = tidak ada tambahan waktu ujian.</i>\n",
    "\n",
    "Durasi : 90 menit\n",
    "\n",
    "<br>"
   ]
  },
  {
   "cell_type": "markdown",
   "id": "6f47e27a",
   "metadata": {},
   "source": [
    "## Bentuk Soal\n",
    "\n",
    "Terdiri dari dua jenis soal:\n",
    "\n",
    "<b>Pilihan Berganda</b>\n",
    "<ul>\n",
    "    <li>Jumlah Soal: 10-15 soal </li>\n",
    "    <li>Materi: Teori dan Coding Pertemuan 2-7 </li>\n",
    "    <li>Kisi-kisi: Pengertian, Langkah-langkah, Find the mistakes, Menentukan output dari kodingan, Menentukan alasan error</li>\n",
    "    <li>Sistem Ujian: CBT(Google Form)-Tertutup</li>\n",
    "</ul>\n",
    "\n",
    "<b>Praktik/Coding</b>\n",
    "<ul>\n",
    "    <li>Jumlah Soal: 1 soal </li>\n",
    "    <li>Materi: Coding Pertemuan 2-7 </li>\n",
    "    <li>Kisi-kisi: Membuat sistem machine learning sederhana</li>\n",
    "    <li>Sistem Ujian: Coding-Terbuka</li>\n",
    "</ul>\n",
    "\n",
    "<br>"
   ]
  },
  {
   "cell_type": "markdown",
   "id": "14e61e1f",
   "metadata": {},
   "source": [
    "## Penilaian\n",
    "\n",
    "<b>Pilihan Berganda</b>: Maksimal 100 poin (setara dengan 20% dari keseluruhan nilai akhir)\n",
    "\n",
    "<b>Praktik/Coding</b>: Maksimal 100 poin (setara dengan 30% dari keseluruhan nilai akhir)\n"
   ]
  }
 ],
 "metadata": {
  "kernelspec": {
   "display_name": "Python 3",
   "language": "python",
   "name": "python3"
  },
  "language_info": {
   "codemirror_mode": {
    "name": "ipython",
    "version": 3
   },
   "file_extension": ".py",
   "mimetype": "text/x-python",
   "name": "python",
   "nbconvert_exporter": "python",
   "pygments_lexer": "ipython3",
   "version": "3.9.2"
  }
 },
 "nbformat": 4,
 "nbformat_minor": 5
}
