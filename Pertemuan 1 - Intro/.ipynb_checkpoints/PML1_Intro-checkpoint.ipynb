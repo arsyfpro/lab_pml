{
 "cells": [
  {
   "cell_type": "markdown",
   "id": "aa136adf",
   "metadata": {},
   "source": [
    "# Praktikum Pembelajaran Mesin Lanjutan 2022"
   ]
  },
  {
   "cell_type": "markdown",
   "id": "8a066125",
   "metadata": {},
   "source": [
    "Asisten Laboratorium:<br><br>\n",
    "<font size='6'> <b> GARY ALVARO </b> </font> <br>\n",
    "<b> Teknologi Informasi - 2018 <b>\n",
    "<br><br>\n",
    "    \n",
    "<b><i>Keep Contact</i></b>\n",
    "<ul>\n",
    "    <li>Whatsapp: <a href=\"https://wa.me/6282369573355\"> 082369573355 </a></li>\n",
    "    <li>Instagram: <a href=\"https://instagram.com/gary_alvaro\"> gary_alvaro </a></li>\n",
    "    <li>Line: garyalvaro </li>\n",
    "</ul>"
   ]
  },
  {
   "cell_type": "markdown",
   "id": "95240462",
   "metadata": {},
   "source": [
    "### PERATURAN LAB\n",
    "<ul>\n",
    "    <li>Kehadiran Minimal 80% (Maksimal 2X absen).</li>\n",
    "    <li>Izin tidak hadir langsung chat ke abang dengan menyertakan data diri: Nama, NIM, Kelas(A1/A2), dan Alasan.</li>\n",
    "    <li>Keterlambatan maksimal 10 menit agar tidak mengganggu praktikum.</li>\n",
    "    <li>Saling menghargai dan tidak membuat keributan.</li>\n",
    "    <li>Dilarang menduplikasi tugas teman.</li>\n",
    "    <li>Materi Praktikum bisa dilihat dan didownload dari Github (<a href=\"https://github.com/garyalvaro/lab_pml\">github.com/garyalvaro/lab_pml</a>) </li>\n",
    "</ul>\n",
    "\n",
    "<b>Tambahan:</b> Bagi teman-teman lain yang tidak mengambil mata kuliah praktikum PML namun ingin mengikuti praktikum, boleh langsung chat abang dengan menyertakan data diri: Nama, NIM, Kom, dan Alasan."
   ]
  },
  {
   "cell_type": "markdown",
   "id": "38213cec",
   "metadata": {},
   "source": [
    "### PENILAIAN\n",
    "<ul>\n",
    "    <li>Kehadiran: <b>10%</b></li>\n",
    "    <li>Quiz (Teori): <b>20%</b></li>\n",
    "    <li>Ujian (Praktek): <b>30%</b></li>\n",
    "    <li>Tugas Mingguan: <b>40%</b></li>\n",
    "</ul>"
   ]
  },
  {
   "cell_type": "code",
   "execution_count": null,
   "id": "05bac650",
   "metadata": {},
   "outputs": [],
   "source": []
  }
 ],
 "metadata": {
  "kernelspec": {
   "display_name": "Python 3",
   "language": "python",
   "name": "python3"
  },
  "language_info": {
   "codemirror_mode": {
    "name": "ipython",
    "version": 3
   },
   "file_extension": ".py",
   "mimetype": "text/x-python",
   "name": "python",
   "nbconvert_exporter": "python",
   "pygments_lexer": "ipython3",
   "version": "3.9.2"
  }
 },
 "nbformat": 4,
 "nbformat_minor": 5
}
